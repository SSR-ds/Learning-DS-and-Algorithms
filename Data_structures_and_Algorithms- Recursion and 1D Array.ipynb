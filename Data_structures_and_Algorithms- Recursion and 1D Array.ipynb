{
  "nbformat": 4,
  "nbformat_minor": 0,
  "metadata": {
    "colab": {
      "name": "Data structures and Algorithms.ipynb",
      "provenance": [],
      "collapsed_sections": [],
      "authorship_tag": "ABX9TyM0DGZv5YurL6h3QYOEWI/+",
      "include_colab_link": true
    },
    "kernelspec": {
      "name": "python3",
      "display_name": "Python 3"
    },
    "language_info": {
      "name": "python"
    }
  },
  "cells": [
    {
      "cell_type": "markdown",
      "metadata": {
        "id": "view-in-github",
        "colab_type": "text"
      },
      "source": [
        "<a href=\"https://colab.research.google.com/github/SSR-ds/Learning-DS-and-Algorithms/blob/main/Data_structures_and_Algorithms-%20Recursion%20and%201D%20Array.ipynb\" target=\"_parent\"><img src=\"https://colab.research.google.com/assets/colab-badge.svg\" alt=\"Open In Colab\"/></a>"
      ]
    },
    {
      "cell_type": "code",
      "metadata": {
        "colab": {
          "base_uri": "https://localhost:8080/"
        },
        "id": "k8qiNR2dyN1L",
        "outputId": "70f6af4a-141c-4837-9714-ce34c8121680"
      },
      "source": [
        "poweroftwoit(5)\n",
        "def poweroftwoit(n):\n",
        "  i=0\n",
        "  power =1\n",
        "  while i < n :\n",
        "    power = power *2\n",
        "    i = i+1\n",
        "  print(power)"
      ],
      "execution_count": null,
      "outputs": [
        {
          "output_type": "stream",
          "text": [
            "2\n",
            "4\n",
            "8\n",
            "16\n",
            "32\n"
          ],
          "name": "stdout"
        }
      ]
    },
    {
      "cell_type": "markdown",
      "metadata": {
        "id": "lX7FfX7V0f2d"
      },
      "source": [
        "**RECURSION**"
      ]
    },
    {
      "cell_type": "code",
      "metadata": {
        "id": "d58epM3D_U43"
      },
      "source": [
        "def recursivemethod(n):\n",
        "  if n < 1:\n",
        "    print('number is less than 1')\n",
        "  else:\n",
        "    recursivemethod(n-1)\n",
        "    print(n)"
      ],
      "execution_count": null,
      "outputs": []
    },
    {
      "cell_type": "code",
      "metadata": {
        "colab": {
          "base_uri": "https://localhost:8080/"
        },
        "id": "KN06LIM9wfvb",
        "outputId": "02643d05-9f91-4b8e-c3e2-ee6410bd2fb2"
      },
      "source": [
        "recursivemethod(4)"
      ],
      "execution_count": null,
      "outputs": [
        {
          "output_type": "stream",
          "text": [
            "number is less than 1\n",
            "1\n",
            "2\n",
            "3\n",
            "4\n"
          ],
          "name": "stdout"
        }
      ]
    },
    {
      "cell_type": "code",
      "metadata": {
        "id": "2qto5RMKvV5X"
      },
      "source": [
        "#factorial of a number\n",
        "def factorial(n):\n",
        "  assert n>=0 and int(n)==n,' It accepts only positive number'\n",
        "  if n in [0,1]:\n",
        "    return (1)\n",
        "  else:\n",
        "    return (n*factorial(n-1))"
      ],
      "execution_count": null,
      "outputs": []
    },
    {
      "cell_type": "code",
      "metadata": {
        "colab": {
          "base_uri": "https://localhost:8080/"
        },
        "id": "dFrF_t60vo0F",
        "outputId": "2c16632c-dd34-458c-9cb2-094249febadb"
      },
      "source": [
        "factorial(5)"
      ],
      "execution_count": null,
      "outputs": [
        {
          "output_type": "execute_result",
          "data": {
            "text/plain": [
              "120"
            ]
          },
          "metadata": {
            "tags": []
          },
          "execution_count": 7
        }
      ]
    },
    {
      "cell_type": "code",
      "metadata": {
        "id": "zmOfe_x64AAt"
      },
      "source": [
        "#fibonacci series using recursion\n",
        "def fibonacci(n):\n",
        "  assert n>=0 and int(n)==n,'Positive or integer'\n",
        "  if n in [0,1]:\n",
        "    return n\n",
        "  else:\n",
        "    return fibonacci(n-1)+fibonacci(n-2)"
      ],
      "execution_count": null,
      "outputs": []
    },
    {
      "cell_type": "code",
      "metadata": {
        "colab": {
          "base_uri": "https://localhost:8080/"
        },
        "id": "Z4Ro2dQV4Wzl",
        "outputId": "9e5cc865-b448-4c7e-d739-5e5d4721949c"
      },
      "source": [
        "fibonacci(4)"
      ],
      "execution_count": null,
      "outputs": [
        {
          "output_type": "execute_result",
          "data": {
            "text/plain": [
              "3"
            ]
          },
          "metadata": {
            "tags": []
          },
          "execution_count": 6
        }
      ]
    },
    {
      "cell_type": "code",
      "metadata": {
        "id": "f7HWZj2vfMzd"
      },
      "source": [
        "#sum of digits of positive integer number using recursion\n",
        "def sum(n):\n",
        "  assert n>=0 and int(n)==n,'accepts only positive numbers'\n",
        "  if n ==0:\n",
        "    return 0\n",
        "  else:\n",
        "    return (int(n%10) + sum(int(n//10)))"
      ],
      "execution_count": null,
      "outputs": []
    },
    {
      "cell_type": "code",
      "metadata": {
        "colab": {
          "base_uri": "https://localhost:8080/"
        },
        "id": "ato-IkA1ncAR",
        "outputId": "ce796a6f-6843-4a4c-81a9-7c4a97e90edf"
      },
      "source": [
        "sum(113)"
      ],
      "execution_count": null,
      "outputs": [
        {
          "output_type": "execute_result",
          "data": {
            "text/plain": [
              "5"
            ]
          },
          "metadata": {
            "tags": []
          },
          "execution_count": 7
        }
      ]
    },
    {
      "cell_type": "code",
      "metadata": {
        "id": "-OAVBWpSKb34"
      },
      "source": [
        "#power of a number using recursion\n",
        "def power(base,exponent):\n",
        "  assert exponent >=0 and int(exponent)==exponent,'only positive and non float'\n",
        "  if exponent ==0:\n",
        "    return 1\n",
        "  elif exponent ==1:\n",
        "    return base\n",
        "  else:\n",
        "    return base * power(base, exponent-1)"
      ],
      "execution_count": null,
      "outputs": []
    },
    {
      "cell_type": "code",
      "metadata": {
        "colab": {
          "base_uri": "https://localhost:8080/"
        },
        "id": "gbWWCtH1KyeH",
        "outputId": "7a5a26af-9b6d-41c6-fa8f-444f7bde6b68"
      },
      "source": [
        "power(2,2)"
      ],
      "execution_count": null,
      "outputs": [
        {
          "output_type": "execute_result",
          "data": {
            "text/plain": [
              "4"
            ]
          },
          "metadata": {
            "tags": []
          },
          "execution_count": 14
        }
      ]
    },
    {
      "cell_type": "code",
      "metadata": {
        "id": "hpDGHFzFRuuN"
      },
      "source": [
        "#GCD of two numbers using recursion\n",
        "def gcd(a,b):\n",
        "  assert int(a)==a and int(b)==b ,'The numbers must be integer only'\n",
        "  if a < 0:\n",
        "    a= a* (-1)\n",
        "  if b < 0:\n",
        "    b = b* (-1)\n",
        "  if b==0:\n",
        "    return a\n",
        "  else:\n",
        "    return gcd(b,a%b)"
      ],
      "execution_count": null,
      "outputs": []
    },
    {
      "cell_type": "code",
      "metadata": {
        "colab": {
          "base_uri": "https://localhost:8080/"
        },
        "id": "y7BEZjL5Vpmx",
        "outputId": "95d59bfc-2556-4325-b6d2-5ac85953f60f"
      },
      "source": [
        "gcd(3,15)"
      ],
      "execution_count": null,
      "outputs": [
        {
          "output_type": "execute_result",
          "data": {
            "text/plain": [
              "3"
            ]
          },
          "metadata": {
            "tags": []
          },
          "execution_count": 30
        }
      ]
    },
    {
      "cell_type": "code",
      "metadata": {
        "id": "k-b32_YPrDcu"
      },
      "source": [
        "#convert from decimal to binary\n",
        "def dtb(n):\n",
        "  assert int(n)==n,'The number must be integer only'\n",
        "  if n==0:\n",
        "    return 0\n",
        "  else:  \n",
        "    return (n%2+ 10*dtb(int(n/2)))"
      ],
      "execution_count": null,
      "outputs": []
    },
    {
      "cell_type": "code",
      "metadata": {
        "colab": {
          "base_uri": "https://localhost:8080/"
        },
        "id": "iomh406XsA1S",
        "outputId": "d22d8ca7-93e7-43d9-8063-ddb91cf34702"
      },
      "source": [
        "dtb(13)"
      ],
      "execution_count": null,
      "outputs": [
        {
          "output_type": "execute_result",
          "data": {
            "text/plain": [
              "1101"
            ]
          },
          "metadata": {
            "tags": []
          },
          "execution_count": 55
        }
      ]
    },
    {
      "cell_type": "markdown",
      "metadata": {
        "id": "--12mMFT0YYK"
      },
      "source": [
        "**ARRAY**"
      ]
    },
    {
      "cell_type": "code",
      "metadata": {
        "id": "5rafBHhft-Y9"
      },
      "source": [
        "from array import *\n",
        "array1 = array('i',[1,2,3,4,5])"
      ],
      "execution_count": null,
      "outputs": []
    },
    {
      "cell_type": "code",
      "metadata": {
        "colab": {
          "base_uri": "https://localhost:8080/"
        },
        "id": "wmQTn6AJuGK8",
        "outputId": "016770e3-7176-4f57-ad62-4d9d4151329b"
      },
      "source": [
        "print(array1)"
      ],
      "execution_count": null,
      "outputs": [
        {
          "output_type": "stream",
          "text": [
            "array('i', [1, 2, 3, 4, 5])\n"
          ],
          "name": "stdout"
        }
      ]
    },
    {
      "cell_type": "code",
      "metadata": {
        "id": "aGksPzBE0QaO"
      },
      "source": [
        "array1.insert(2,9)"
      ],
      "execution_count": null,
      "outputs": []
    },
    {
      "cell_type": "code",
      "metadata": {
        "colab": {
          "base_uri": "https://localhost:8080/"
        },
        "id": "2xjVuC_50UHu",
        "outputId": "7b86c16f-fecb-4ba1-e0eb-8395c2629713"
      },
      "source": [
        "array1"
      ],
      "execution_count": null,
      "outputs": [
        {
          "output_type": "execute_result",
          "data": {
            "text/plain": [
              "array('i', [1, 2, 9, 3, 3, 4, 5])"
            ]
          },
          "metadata": {
            "tags": []
          },
          "execution_count": 6
        }
      ]
    },
    {
      "cell_type": "code",
      "metadata": {
        "id": "Qe9UhYUR0VrZ"
      },
      "source": [
        "def traversal(array):\n",
        "  for i in array:\n",
        "    print(i)"
      ],
      "execution_count": null,
      "outputs": []
    },
    {
      "cell_type": "code",
      "metadata": {
        "colab": {
          "base_uri": "https://localhost:8080/"
        },
        "id": "FDKxtpK81ISm",
        "outputId": "e8a0308d-ecde-49d4-ea63-5e34b602d38c"
      },
      "source": [
        "traversal(array1)"
      ],
      "execution_count": null,
      "outputs": [
        {
          "output_type": "stream",
          "text": [
            "1\n",
            "2\n",
            "9\n",
            "3\n",
            "3\n",
            "4\n",
            "5\n"
          ],
          "name": "stdout"
        }
      ]
    },
    {
      "cell_type": "code",
      "metadata": {
        "id": "tgfIPxvg8S9N"
      },
      "source": [
        "def accessElement(array, index):\n",
        "  if index >= len(array):\n",
        "    print('Does not exist')\n",
        "  else:\n",
        "    print(array[index])"
      ],
      "execution_count": null,
      "outputs": []
    },
    {
      "cell_type": "code",
      "metadata": {
        "colab": {
          "base_uri": "https://localhost:8080/"
        },
        "id": "Dvk_g_wQ8f1i",
        "outputId": "36491cc2-93f4-4339-c794-92959dd18df6"
      },
      "source": [
        "accessElement(array1,5)"
      ],
      "execution_count": null,
      "outputs": [
        {
          "output_type": "stream",
          "text": [
            "4\n"
          ],
          "name": "stdout"
        }
      ]
    },
    {
      "cell_type": "code",
      "metadata": {
        "id": "hiXNrdZFLQDB"
      },
      "source": [
        "def searchelement(array,value):\n",
        "  for i in array:\n",
        "    if i==value:\n",
        "      return array.index(value)\n",
        "  return \"does not exist\""
      ],
      "execution_count": null,
      "outputs": []
    },
    {
      "cell_type": "code",
      "metadata": {
        "colab": {
          "base_uri": "https://localhost:8080/"
        },
        "id": "4z8BiPLALe89",
        "outputId": "e4e8f24a-3af0-4918-89f2-cf49ec6f1256"
      },
      "source": [
        "searchelement(array1,5)"
      ],
      "execution_count": null,
      "outputs": [
        {
          "output_type": "execute_result",
          "data": {
            "text/plain": [
              "6"
            ]
          },
          "metadata": {
            "tags": []
          },
          "execution_count": 18
        }
      ]
    },
    {
      "cell_type": "code",
      "metadata": {
        "id": "mg002dl2Mq1N"
      },
      "source": [
        "array1.remove(5)"
      ],
      "execution_count": null,
      "outputs": []
    },
    {
      "cell_type": "code",
      "metadata": {
        "colab": {
          "base_uri": "https://localhost:8080/"
        },
        "id": "UhQjoGFpOUcz",
        "outputId": "dd73cfbd-8b4f-4116-cba0-c120c8c37cd2"
      },
      "source": [
        "array1"
      ],
      "execution_count": null,
      "outputs": [
        {
          "output_type": "execute_result",
          "data": {
            "text/plain": [
              "array('i', [1, 2, 9, 3, 3, 4])"
            ]
          },
          "metadata": {
            "tags": []
          },
          "execution_count": 20
        }
      ]
    },
    {
      "cell_type": "code",
      "metadata": {
        "id": "qXewVHFd3u3s"
      },
      "source": [
        ""
      ],
      "execution_count": null,
      "outputs": []
    }
  ]
}