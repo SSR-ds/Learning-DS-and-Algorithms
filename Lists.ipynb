{
  "nbformat": 4,
  "nbformat_minor": 0,
  "metadata": {
    "colab": {
      "name": "Lists.ipynb",
      "provenance": [],
      "authorship_tag": "ABX9TyNRnyqcBij/LZkFzZheaJ3D",
      "include_colab_link": true
    },
    "kernelspec": {
      "name": "python3",
      "display_name": "Python 3"
    },
    "language_info": {
      "name": "python"
    }
  },
  "cells": [
    {
      "cell_type": "markdown",
      "metadata": {
        "id": "view-in-github",
        "colab_type": "text"
      },
      "source": [
        "<a href=\"https://colab.research.google.com/github/SSR-ds/Learning-DS-and-Algorithms/blob/main/Lists.ipynb\" target=\"_parent\"><img src=\"https://colab.research.google.com/assets/colab-badge.svg\" alt=\"Open In Colab\"/></a>"
      ]
    },
    {
      "cell_type": "code",
      "metadata": {
        "id": "VjJndRnIUzuR"
      },
      "source": [
        "a = [1,2,3,4]"
      ],
      "execution_count": 1,
      "outputs": []
    },
    {
      "cell_type": "code",
      "metadata": {
        "colab": {
          "base_uri": "https://localhost:8080/"
        },
        "id": "QgH36T_oU4HY",
        "outputId": "f4792f37-2f77-4fd4-8ccd-e8842bca0d25"
      },
      "source": [
        "a"
      ],
      "execution_count": 2,
      "outputs": [
        {
          "output_type": "execute_result",
          "data": {
            "text/plain": [
              "[1, 2, 3, 4]"
            ]
          },
          "metadata": {
            "tags": []
          },
          "execution_count": 2
        }
      ]
    },
    {
      "cell_type": "code",
      "metadata": {
        "id": "JkyplYUkVG0P"
      },
      "source": [
        "shopping_list =['Milk','Cheese','Butter']"
      ],
      "execution_count": 3,
      "outputs": []
    },
    {
      "cell_type": "code",
      "metadata": {
        "colab": {
          "base_uri": "https://localhost:8080/",
          "height": 35
        },
        "id": "6UTST91iVLbu",
        "outputId": "b1c99fe1-13c7-4b09-b911-e25f897313b2"
      },
      "source": [
        "shopping_list[0]"
      ],
      "execution_count": 4,
      "outputs": [
        {
          "output_type": "execute_result",
          "data": {
            "application/vnd.google.colaboratory.intrinsic+json": {
              "type": "string"
            },
            "text/plain": [
              "'Milk'"
            ]
          },
          "metadata": {
            "tags": []
          },
          "execution_count": 4
        }
      ]
    },
    {
      "cell_type": "code",
      "metadata": {
        "id": "TmApkf16VPk5"
      },
      "source": [
        "def list_print(list):\n",
        "  for i in range(len(list)):\n",
        "    print(list[i])"
      ],
      "execution_count": 7,
      "outputs": []
    },
    {
      "cell_type": "code",
      "metadata": {
        "colab": {
          "base_uri": "https://localhost:8080/"
        },
        "id": "VcmWAP9fVbig",
        "outputId": "c9356072-2c68-4d06-b403-18e64e10a9ac"
      },
      "source": [
        "list_print(shopping_list)"
      ],
      "execution_count": 8,
      "outputs": [
        {
          "output_type": "stream",
          "text": [
            "Milk\n",
            "Cheese\n",
            "Butter\n"
          ],
          "name": "stdout"
        }
      ]
    },
    {
      "cell_type": "code",
      "metadata": {
        "colab": {
          "base_uri": "https://localhost:8080/"
        },
        "id": "5MJ-yZYwXxtS",
        "outputId": "5b93ead8-a1b8-4b51-a15d-beb8592ea59a"
      },
      "source": [
        "list_print(a)"
      ],
      "execution_count": 9,
      "outputs": [
        {
          "output_type": "stream",
          "text": [
            "1\n",
            "2\n",
            "3\n",
            "4\n"
          ],
          "name": "stdout"
        }
      ]
    },
    {
      "cell_type": "code",
      "metadata": {
        "id": "tOrVGZ9kYnzP"
      },
      "source": [
        "a[0]=10"
      ],
      "execution_count": 10,
      "outputs": []
    },
    {
      "cell_type": "code",
      "metadata": {
        "colab": {
          "base_uri": "https://localhost:8080/"
        },
        "id": "x7lXvVlDYppp",
        "outputId": "0b02b13c-86db-4608-c0a3-f7a2b0912324"
      },
      "source": [
        "a"
      ],
      "execution_count": 11,
      "outputs": [
        {
          "output_type": "execute_result",
          "data": {
            "text/plain": [
              "[10, 2, 3, 4]"
            ]
          },
          "metadata": {
            "tags": []
          },
          "execution_count": 11
        }
      ]
    },
    {
      "cell_type": "code",
      "metadata": {
        "id": "Huje10tabl98"
      },
      "source": [
        "a.insert(5,11)"
      ],
      "execution_count": 14,
      "outputs": []
    },
    {
      "cell_type": "code",
      "metadata": {
        "colab": {
          "base_uri": "https://localhost:8080/"
        },
        "id": "0iFX3zEnboSA",
        "outputId": "a1440a7d-2546-40dd-e088-df217f390a09"
      },
      "source": [
        "a"
      ],
      "execution_count": 15,
      "outputs": [
        {
          "output_type": "execute_result",
          "data": {
            "text/plain": [
              "[11, 10, 2, 3, 4, 11]"
            ]
          },
          "metadata": {
            "tags": []
          },
          "execution_count": 15
        }
      ]
    },
    {
      "cell_type": "code",
      "metadata": {
        "id": "_I5ALUNKbrPb"
      },
      "source": [
        "a.append(22)"
      ],
      "execution_count": 16,
      "outputs": []
    },
    {
      "cell_type": "code",
      "metadata": {
        "colab": {
          "base_uri": "https://localhost:8080/"
        },
        "id": "-uGiIq3QbrBM",
        "outputId": "946d1146-de71-478d-b9ae-dae869c27a06"
      },
      "source": [
        "a"
      ],
      "execution_count": 17,
      "outputs": [
        {
          "output_type": "execute_result",
          "data": {
            "text/plain": [
              "[11, 10, 2, 3, 4, 11, 22]"
            ]
          },
          "metadata": {
            "tags": []
          },
          "execution_count": 17
        }
      ]
    },
    {
      "cell_type": "code",
      "metadata": {
        "id": "Wva3UZf7btra"
      },
      "source": [
        "a.extend(shopping_list)"
      ],
      "execution_count": 18,
      "outputs": []
    },
    {
      "cell_type": "code",
      "metadata": {
        "colab": {
          "base_uri": "https://localhost:8080/"
        },
        "id": "tsbn74wvbxQy",
        "outputId": "1286969a-7534-4137-d9a6-1cb5d9e98e8d"
      },
      "source": [
        "a"
      ],
      "execution_count": 19,
      "outputs": [
        {
          "output_type": "execute_result",
          "data": {
            "text/plain": [
              "[11, 10, 2, 3, 4, 11, 22, 'Milk', 'Cheese', 'Butter']"
            ]
          },
          "metadata": {
            "tags": []
          },
          "execution_count": 19
        }
      ]
    },
    {
      "cell_type": "code",
      "metadata": {
        "id": "NQOlwqrMc00l"
      },
      "source": [
        "a[0:2]=[25,35,45]"
      ],
      "execution_count": 23,
      "outputs": []
    },
    {
      "cell_type": "code",
      "metadata": {
        "colab": {
          "base_uri": "https://localhost:8080/"
        },
        "id": "6_KNiXzBc5Do",
        "outputId": "4686a075-0e65-49a3-9e21-4de987ef7794"
      },
      "source": [
        "a"
      ],
      "execution_count": 24,
      "outputs": [
        {
          "output_type": "execute_result",
          "data": {
            "text/plain": [
              "[25, 35, 45, 45, 45, 2, 3, 4, 11, 22, 'Milk', 'Cheese', 'Butter']"
            ]
          },
          "metadata": {
            "tags": []
          },
          "execution_count": 24
        }
      ]
    },
    {
      "cell_type": "code",
      "metadata": {
        "colab": {
          "base_uri": "https://localhost:8080/"
        },
        "id": "abY8iV-ufJDX",
        "outputId": "0ac57674-87b5-4a48-b376-91a878bbdc5f"
      },
      "source": [
        "a.pop(1)"
      ],
      "execution_count": 26,
      "outputs": [
        {
          "output_type": "execute_result",
          "data": {
            "text/plain": [
              "35"
            ]
          },
          "metadata": {
            "tags": []
          },
          "execution_count": 26
        }
      ]
    },
    {
      "cell_type": "code",
      "metadata": {
        "colab": {
          "base_uri": "https://localhost:8080/"
        },
        "id": "GFOH8DOMfMLP",
        "outputId": "4206c672-2e46-482e-b6ba-2d4ab7a8f4ce"
      },
      "source": [
        "a"
      ],
      "execution_count": 27,
      "outputs": [
        {
          "output_type": "execute_result",
          "data": {
            "text/plain": [
              "[25, 45, 45, 45, 2, 3, 4, 11, 22, 'Milk', 'Cheese', 'Butter']"
            ]
          },
          "metadata": {
            "tags": []
          },
          "execution_count": 27
        }
      ]
    },
    {
      "cell_type": "code",
      "metadata": {
        "id": "iWpwp_o0fch6"
      },
      "source": [
        "del a[1]"
      ],
      "execution_count": 30,
      "outputs": []
    },
    {
      "cell_type": "code",
      "metadata": {
        "colab": {
          "base_uri": "https://localhost:8080/"
        },
        "id": "BhIOgXDRfmCr",
        "outputId": "a0617eb4-791a-47db-cac3-de495a426e1a"
      },
      "source": [
        "a"
      ],
      "execution_count": 31,
      "outputs": [
        {
          "output_type": "execute_result",
          "data": {
            "text/plain": [
              "[25, 45, 45, 2, 3, 4, 11, 22, 'Milk', 'Cheese', 'Butter']"
            ]
          },
          "metadata": {
            "tags": []
          },
          "execution_count": 31
        }
      ]
    },
    {
      "cell_type": "code",
      "metadata": {
        "colab": {
          "base_uri": "https://localhost:8080/"
        },
        "id": "0oZqKJw_ic-J",
        "outputId": "8438905a-bcde-45d3-c3d6-db41634bf84a"
      },
      "source": [
        "if 'Milk' in a:\n",
        "  print(a.index('Milk'))\n",
        "else:\n",
        "  print('does not exist')\n"
      ],
      "execution_count": 32,
      "outputs": [
        {
          "output_type": "stream",
          "text": [
            "8\n"
          ],
          "name": "stdout"
        }
      ]
    },
    {
      "cell_type": "code",
      "metadata": {
        "id": "86bbElRbi-jj"
      },
      "source": [
        "def searchlist(list, value):\n",
        "  for i in list:\n",
        "    if i==value:\n",
        "      return list.index(value)\n",
        "  return('does not exist')"
      ],
      "execution_count": 39,
      "outputs": []
    },
    {
      "cell_type": "code",
      "metadata": {
        "colab": {
          "base_uri": "https://localhost:8080/"
        },
        "id": "AzCVuO7VjJfM",
        "outputId": "5b393c78-8e0c-4271-9c3e-d0f462ad884a"
      },
      "source": [
        "searchlist(a,22)"
      ],
      "execution_count": 41,
      "outputs": [
        {
          "output_type": "execute_result",
          "data": {
            "text/plain": [
              "7"
            ]
          },
          "metadata": {
            "tags": []
          },
          "execution_count": 41
        }
      ]
    },
    {
      "cell_type": "code",
      "metadata": {
        "colab": {
          "base_uri": "https://localhost:8080/"
        },
        "id": "Ebmi_LMOsoFO",
        "outputId": "6e4d8356-9577-4279-8563-f0c5830c48a4"
      },
      "source": [
        "arr = [[1, 2, 3, 4],\n",
        "       [4, 5, 6, 7],\n",
        "       [8, 9, 10, 11],\n",
        "       [12, 13, 14, 15]]\n",
        "for i in range(0, 4):\n",
        "    print(arr[i].pop())"
      ],
      "execution_count": 42,
      "outputs": [
        {
          "output_type": "stream",
          "text": [
            "4\n",
            "7\n",
            "11\n",
            "15\n"
          ],
          "name": "stdout"
        }
      ]
    },
    {
      "cell_type": "code",
      "metadata": {
        "colab": {
          "base_uri": "https://localhost:8080/"
        },
        "id": "rTFpBl33s2dN",
        "outputId": "c1796c56-588a-4fcb-9887-7f0837d75426"
      },
      "source": [
        "def f(i, values = []):\n",
        "    values.append(i)\n",
        "    print (values)\n",
        "    return values\n",
        "f(1)\n",
        "f(2)\n",
        "f(3)"
      ],
      "execution_count": 43,
      "outputs": [
        {
          "output_type": "stream",
          "text": [
            "[1]\n",
            "[1, 2]\n",
            "[1, 2, 3]\n"
          ],
          "name": "stdout"
        },
        {
          "output_type": "execute_result",
          "data": {
            "text/plain": [
              "[1, 2, 3]"
            ]
          },
          "metadata": {
            "tags": []
          },
          "execution_count": 43
        }
      ]
    },
    {
      "cell_type": "code",
      "metadata": {
        "colab": {
          "base_uri": "https://localhost:8080/"
        },
        "id": "zk9a3arttBqD",
        "outputId": "8ceaa3cc-4d4e-465b-cff6-f058c352658d"
      },
      "source": [
        "arr = [1, 2, 3, 4, 5, 6]\n",
        "for i in range(1, 6):\n",
        "    arr[i - 1] = arr[i]\n",
        "for i in range(0, 6): \n",
        "    print(arr[i], end = \" \")"
      ],
      "execution_count": 44,
      "outputs": [
        {
          "output_type": "stream",
          "text": [
            "2 3 4 5 6 6 "
          ],
          "name": "stdout"
        }
      ]
    },
    {
      "cell_type": "code",
      "metadata": {
        "colab": {
          "base_uri": "https://localhost:8080/"
        },
        "id": "ARJoEP1utBtj",
        "outputId": "0fcc4653-7d82-4105-df39-1c8b7c7b2c8e"
      },
      "source": [
        "a=[1,2,3,4,5]\n",
        "print(a[3:0:-1])\n",
        "\n"
      ],
      "execution_count": 45,
      "outputs": [
        {
          "output_type": "stream",
          "text": [
            "[4, 3, 2]\n"
          ],
          "name": "stdout"
        }
      ]
    },
    {
      "cell_type": "code",
      "metadata": {
        "colab": {
          "base_uri": "https://localhost:8080/"
        },
        "id": "L2V-gvodtLH_",
        "outputId": "26d8bc4d-7c95-4515-87a8-85c9d3d72176"
      },
      "source": [
        "data = [[[1, 2], [3, 4]], [[5, 6], [7, 8]]]\n",
        "def fun(m):\n",
        "    v = m[0][0]\n",
        " \n",
        "    for row in m:\n",
        "        for element in row:\n",
        "            if v < element: v = element\n",
        " \n",
        "    return v\n",
        "print(fun(data[0]))"
      ],
      "execution_count": 46,
      "outputs": [
        {
          "output_type": "stream",
          "text": [
            "4\n"
          ],
          "name": "stdout"
        }
      ]
    },
    {
      "cell_type": "code",
      "metadata": {
        "colab": {
          "base_uri": "https://localhost:8080/"
        },
        "id": "hbZSh4YztQo3",
        "outputId": "dd160ce8-9214-4d4b-8226-eeffcf6c56b6"
      },
      "source": [
        "a=[1,2,3,4,5,6,7,8,9]\n",
        "print(a[::2])"
      ],
      "execution_count": 47,
      "outputs": [
        {
          "output_type": "stream",
          "text": [
            "[1, 3, 5, 7, 9]\n"
          ],
          "name": "stdout"
        }
      ]
    },
    {
      "cell_type": "code",
      "metadata": {
        "colab": {
          "base_uri": "https://localhost:8080/"
        },
        "id": "5p8_g67ytT2m",
        "outputId": "7e6269b0-1b46-4266-a568-d6d1b8890e90"
      },
      "source": [
        "def f(value, values):\n",
        "    v = 1\n",
        "    values[0] = 44\n",
        "t = 3\n",
        "v = [1, 2, 3]\n",
        "f(t, v)\n",
        "print(t, v[0])"
      ],
      "execution_count": 48,
      "outputs": [
        {
          "output_type": "stream",
          "text": [
            "3 44\n"
          ],
          "name": "stdout"
        }
      ]
    }
  ]
}