{
  "nbformat": 4,
  "nbformat_minor": 0,
  "metadata": {
    "colab": {
      "name": "1D & 2D Array",
      "provenance": [],
      "collapsed_sections": [],
      "authorship_tag": "ABX9TyOh4TPCM/IYdAFUk+cC4yFZ",
      "include_colab_link": true
    },
    "kernelspec": {
      "name": "python3",
      "display_name": "Python 3"
    },
    "language_info": {
      "name": "python"
    }
  },
  "cells": [
    {
      "cell_type": "markdown",
      "metadata": {
        "id": "view-in-github",
        "colab_type": "text"
      },
      "source": [
        "<a href=\"https://colab.research.google.com/github/SSR-ds/Learning-DS-and-Algorithms/blob/main/1D_%26_2D_Array.ipynb\" target=\"_parent\"><img src=\"https://colab.research.google.com/assets/colab-badge.svg\" alt=\"Open In Colab\"/></a>"
      ]
    },
    {
      "cell_type": "code",
      "metadata": {
        "id": "MBvc4oWV4qki"
      },
      "source": [
        "from array import *"
      ],
      "execution_count": 1,
      "outputs": []
    },
    {
      "cell_type": "code",
      "metadata": {
        "id": "SlkxjVg24yo9"
      },
      "source": [
        "#Creating array and traversing\n",
        "array_p = array('i',[1,2,3,4,5,6,7,8,9])"
      ],
      "execution_count": 2,
      "outputs": []
    },
    {
      "cell_type": "code",
      "metadata": {
        "id": "WplYNwJd5PJE"
      },
      "source": [
        "def traverse(array):\n",
        "  for i in array:\n",
        "    print(i)"
      ],
      "execution_count": 3,
      "outputs": []
    },
    {
      "cell_type": "code",
      "metadata": {
        "colab": {
          "base_uri": "https://localhost:8080/"
        },
        "id": "7svbIbeV5WYw",
        "outputId": "eba81119-c50b-40fd-e4f4-08d40d2c96c5"
      },
      "source": [
        "traverse(array_p)"
      ],
      "execution_count": 4,
      "outputs": [
        {
          "output_type": "stream",
          "text": [
            "1\n",
            "2\n",
            "3\n",
            "4\n",
            "5\n",
            "6\n",
            "7\n",
            "8\n",
            "9\n"
          ],
          "name": "stdout"
        }
      ]
    },
    {
      "cell_type": "code",
      "metadata": {
        "colab": {
          "base_uri": "https://localhost:8080/"
        },
        "id": "UgmusomZ5bwT",
        "outputId": "3ef0c675-1a30-4348-e30f-0084f5b1d43f"
      },
      "source": [
        "#Access individual elements through indexes\n",
        "array_p[5]"
      ],
      "execution_count": 5,
      "outputs": [
        {
          "output_type": "execute_result",
          "data": {
            "text/plain": [
              "6"
            ]
          },
          "metadata": {
            "tags": []
          },
          "execution_count": 5
        }
      ]
    },
    {
      "cell_type": "code",
      "metadata": {
        "id": "a55JOvjm_T7y"
      },
      "source": [
        "array_p.append(10)"
      ],
      "execution_count": 6,
      "outputs": []
    },
    {
      "cell_type": "code",
      "metadata": {
        "colab": {
          "base_uri": "https://localhost:8080/"
        },
        "id": "uYeLcm_g_vF3",
        "outputId": "161946c9-1a2d-444c-a5d4-35ec4d51bc17"
      },
      "source": [
        "array_p"
      ],
      "execution_count": 7,
      "outputs": [
        {
          "output_type": "execute_result",
          "data": {
            "text/plain": [
              "array('i', [1, 2, 3, 4, 5, 6, 7, 8, 9, 10])"
            ]
          },
          "metadata": {
            "tags": []
          },
          "execution_count": 7
        }
      ]
    },
    {
      "cell_type": "code",
      "metadata": {
        "id": "oC3IHUbSD_UD"
      },
      "source": [
        "array_p.insert(0,2)"
      ],
      "execution_count": 8,
      "outputs": []
    },
    {
      "cell_type": "code",
      "metadata": {
        "colab": {
          "base_uri": "https://localhost:8080/"
        },
        "id": "eUVaH8tEawHR",
        "outputId": "bb7fb56b-adcc-4a60-fb4a-6b9ffd5884ba"
      },
      "source": [
        "array_p"
      ],
      "execution_count": 9,
      "outputs": [
        {
          "output_type": "execute_result",
          "data": {
            "text/plain": [
              "array('i', [2, 1, 2, 3, 4, 5, 6, 7, 8, 9, 10])"
            ]
          },
          "metadata": {
            "tags": []
          },
          "execution_count": 9
        }
      ]
    },
    {
      "cell_type": "code",
      "metadata": {
        "id": "s6o8-xmsbGec"
      },
      "source": [
        "array_q =array('i',[11,12,13,14,15,16,17])"
      ],
      "execution_count": 10,
      "outputs": []
    },
    {
      "cell_type": "code",
      "metadata": {
        "id": "pbTuAAklbcwB"
      },
      "source": [
        "array_p.extend(array_q)"
      ],
      "execution_count": 11,
      "outputs": []
    },
    {
      "cell_type": "code",
      "metadata": {
        "colab": {
          "base_uri": "https://localhost:8080/"
        },
        "id": "EPheMBrAbg4v",
        "outputId": "f7cf5c24-c339-40c7-e79a-80e0f6d61d66"
      },
      "source": [
        "array_p"
      ],
      "execution_count": 12,
      "outputs": [
        {
          "output_type": "execute_result",
          "data": {
            "text/plain": [
              "array('i', [2, 1, 2, 3, 4, 5, 6, 7, 8, 9, 10, 11, 12, 13, 14, 15, 16, 17])"
            ]
          },
          "metadata": {
            "tags": []
          },
          "execution_count": 12
        }
      ]
    },
    {
      "cell_type": "code",
      "metadata": {
        "colab": {
          "base_uri": "https://localhost:8080/"
        },
        "id": "P2NhKwbecRb9",
        "outputId": "7e1fb0a7-2fef-4123-f306-d6604933b326"
      },
      "source": [
        "temp_list = [45,55,65]\n",
        "array_p.fromlist(temp_list)\n",
        "array_p"
      ],
      "execution_count": 13,
      "outputs": [
        {
          "output_type": "execute_result",
          "data": {
            "text/plain": [
              "array('i', [2, 1, 2, 3, 4, 5, 6, 7, 8, 9, 10, 11, 12, 13, 14, 15, 16, 17, 45, 55, 65])"
            ]
          },
          "metadata": {
            "tags": []
          },
          "execution_count": 13
        }
      ]
    },
    {
      "cell_type": "code",
      "metadata": {
        "id": "553O0AffcqEf"
      },
      "source": [
        "array_p.remove(65)"
      ],
      "execution_count": 14,
      "outputs": []
    },
    {
      "cell_type": "code",
      "metadata": {
        "colab": {
          "base_uri": "https://localhost:8080/"
        },
        "id": "qhu2YNNHcwF7",
        "outputId": "8319a841-8ac9-43b5-e2a2-d117fc393e12"
      },
      "source": [
        "array_p"
      ],
      "execution_count": 15,
      "outputs": [
        {
          "output_type": "execute_result",
          "data": {
            "text/plain": [
              "array('i', [2, 1, 2, 3, 4, 5, 6, 7, 8, 9, 10, 11, 12, 13, 14, 15, 16, 17, 45, 55])"
            ]
          },
          "metadata": {
            "tags": []
          },
          "execution_count": 15
        }
      ]
    },
    {
      "cell_type": "code",
      "metadata": {
        "colab": {
          "base_uri": "https://localhost:8080/"
        },
        "id": "k4WzghZecxMn",
        "outputId": "9a677768-e172-4e4a-e450-cb212dd28232"
      },
      "source": [
        "array_p.pop()"
      ],
      "execution_count": 16,
      "outputs": [
        {
          "output_type": "execute_result",
          "data": {
            "text/plain": [
              "55"
            ]
          },
          "metadata": {
            "tags": []
          },
          "execution_count": 16
        }
      ]
    },
    {
      "cell_type": "code",
      "metadata": {
        "colab": {
          "base_uri": "https://localhost:8080/"
        },
        "id": "yGp0gNBrc1G7",
        "outputId": "111471e8-5e3c-48b9-809f-79f18ee26e89"
      },
      "source": [
        "array_p"
      ],
      "execution_count": 17,
      "outputs": [
        {
          "output_type": "execute_result",
          "data": {
            "text/plain": [
              "array('i', [2, 1, 2, 3, 4, 5, 6, 7, 8, 9, 10, 11, 12, 13, 14, 15, 16, 17, 45])"
            ]
          },
          "metadata": {
            "tags": []
          },
          "execution_count": 17
        }
      ]
    },
    {
      "cell_type": "code",
      "metadata": {
        "colab": {
          "base_uri": "https://localhost:8080/"
        },
        "id": "syoQODLKc673",
        "outputId": "cbd1c4fa-2b38-4558-bac8-72bc9b77ec25"
      },
      "source": [
        "array_p.index(45)"
      ],
      "execution_count": 18,
      "outputs": [
        {
          "output_type": "execute_result",
          "data": {
            "text/plain": [
              "18"
            ]
          },
          "metadata": {
            "tags": []
          },
          "execution_count": 18
        }
      ]
    },
    {
      "cell_type": "code",
      "metadata": {
        "id": "x1bmHmvKdsum"
      },
      "source": [
        "array_p.reverse()"
      ],
      "execution_count": 19,
      "outputs": []
    },
    {
      "cell_type": "code",
      "metadata": {
        "colab": {
          "base_uri": "https://localhost:8080/"
        },
        "id": "gf7fp02hdvzm",
        "outputId": "4f1ee866-b562-4626-f458-6422bb07f96b"
      },
      "source": [
        "array_p"
      ],
      "execution_count": 20,
      "outputs": [
        {
          "output_type": "execute_result",
          "data": {
            "text/plain": [
              "array('i', [45, 17, 16, 15, 14, 13, 12, 11, 10, 9, 8, 7, 6, 5, 4, 3, 2, 1, 2])"
            ]
          },
          "metadata": {
            "tags": []
          },
          "execution_count": 20
        }
      ]
    },
    {
      "cell_type": "code",
      "metadata": {
        "colab": {
          "base_uri": "https://localhost:8080/"
        },
        "id": "-fl_9IAFdxdc",
        "outputId": "ee114671-992b-44ad-a302-31a9e211de02"
      },
      "source": [
        "array_p.buffer_info()"
      ],
      "execution_count": 21,
      "outputs": [
        {
          "output_type": "execute_result",
          "data": {
            "text/plain": [
              "(140456479772096, 19)"
            ]
          },
          "metadata": {
            "tags": []
          },
          "execution_count": 21
        }
      ]
    },
    {
      "cell_type": "code",
      "metadata": {
        "colab": {
          "base_uri": "https://localhost:8080/"
        },
        "id": "Um2UzGhdeECE",
        "outputId": "134cbc33-d529-4e7f-8e05-4b7a4fc693c7"
      },
      "source": [
        "array_p.count(45)"
      ],
      "execution_count": 22,
      "outputs": [
        {
          "output_type": "execute_result",
          "data": {
            "text/plain": [
              "1"
            ]
          },
          "metadata": {
            "tags": []
          },
          "execution_count": 22
        }
      ]
    },
    {
      "cell_type": "code",
      "metadata": {
        "colab": {
          "base_uri": "https://localhost:8080/"
        },
        "id": "0zzmHhuQeKJR",
        "outputId": "9433a173-481e-4ddd-b88e-0cedd659d76c"
      },
      "source": [
        "array_p.tostring()"
      ],
      "execution_count": 23,
      "outputs": [
        {
          "output_type": "execute_result",
          "data": {
            "text/plain": [
              "b'-\\x00\\x00\\x00\\x11\\x00\\x00\\x00\\x10\\x00\\x00\\x00\\x0f\\x00\\x00\\x00\\x0e\\x00\\x00\\x00\\r\\x00\\x00\\x00\\x0c\\x00\\x00\\x00\\x0b\\x00\\x00\\x00\\n\\x00\\x00\\x00\\t\\x00\\x00\\x00\\x08\\x00\\x00\\x00\\x07\\x00\\x00\\x00\\x06\\x00\\x00\\x00\\x05\\x00\\x00\\x00\\x04\\x00\\x00\\x00\\x03\\x00\\x00\\x00\\x02\\x00\\x00\\x00\\x01\\x00\\x00\\x00\\x02\\x00\\x00\\x00'"
            ]
          },
          "metadata": {
            "tags": []
          },
          "execution_count": 23
        }
      ]
    },
    {
      "cell_type": "code",
      "metadata": {
        "colab": {
          "base_uri": "https://localhost:8080/"
        },
        "id": "2UTOpbVFebTq",
        "outputId": "5d5b08ac-e26d-4619-b895-8ba96bbeca4e"
      },
      "source": [
        "array_p.tolist()"
      ],
      "execution_count": 24,
      "outputs": [
        {
          "output_type": "execute_result",
          "data": {
            "text/plain": [
              "[45, 17, 16, 15, 14, 13, 12, 11, 10, 9, 8, 7, 6, 5, 4, 3, 2, 1, 2]"
            ]
          },
          "metadata": {
            "tags": []
          },
          "execution_count": 24
        }
      ]
    },
    {
      "cell_type": "code",
      "metadata": {
        "colab": {
          "base_uri": "https://localhost:8080/"
        },
        "id": "S12IomvMeiJh",
        "outputId": "2c15595b-5af7-4c84-bea7-496edc6e37e0"
      },
      "source": [
        "array_p[1:4]"
      ],
      "execution_count": 25,
      "outputs": [
        {
          "output_type": "execute_result",
          "data": {
            "text/plain": [
              "array('i', [17, 16, 15])"
            ]
          },
          "metadata": {
            "tags": []
          },
          "execution_count": 25
        }
      ]
    },
    {
      "cell_type": "code",
      "metadata": {
        "id": "-aeSV6dZHWUb"
      },
      "source": [
        "import numpy as np"
      ],
      "execution_count": 26,
      "outputs": []
    },
    {
      "cell_type": "code",
      "metadata": {
        "id": "aCc6I5XuHdUr"
      },
      "source": [
        "twod = np.array(([11,12,13,14],[10,11,12,13],[24,25,26,27],[25,26,27,28]))"
      ],
      "execution_count": 27,
      "outputs": []
    },
    {
      "cell_type": "code",
      "metadata": {
        "colab": {
          "base_uri": "https://localhost:8080/"
        },
        "id": "3aokBIInJT2K",
        "outputId": "2ad83aa6-fa1e-40a0-d2e4-db7e0af78046"
      },
      "source": [
        "twod"
      ],
      "execution_count": 28,
      "outputs": [
        {
          "output_type": "execute_result",
          "data": {
            "text/plain": [
              "array([[11, 12, 13, 14],\n",
              "       [10, 11, 12, 13],\n",
              "       [24, 25, 26, 27],\n",
              "       [25, 26, 27, 28]])"
            ]
          },
          "metadata": {
            "tags": []
          },
          "execution_count": 28
        }
      ]
    },
    {
      "cell_type": "code",
      "metadata": {
        "id": "Tcd26FOImiXI"
      },
      "source": [
        "new_two_d = np.insert(twod,0, [[1,2,3,4]], axis=1)"
      ],
      "execution_count": 29,
      "outputs": []
    },
    {
      "cell_type": "code",
      "metadata": {
        "colab": {
          "base_uri": "https://localhost:8080/"
        },
        "id": "JWBEY5tdoOqv",
        "outputId": "5bbbd5c0-17ae-43bc-b9f8-2dfdc2fbe79b"
      },
      "source": [
        "new_two_d"
      ],
      "execution_count": 30,
      "outputs": [
        {
          "output_type": "execute_result",
          "data": {
            "text/plain": [
              "array([[ 1, 11, 12, 13, 14],\n",
              "       [ 2, 10, 11, 12, 13],\n",
              "       [ 3, 24, 25, 26, 27],\n",
              "       [ 4, 25, 26, 27, 28]])"
            ]
          },
          "metadata": {
            "tags": []
          },
          "execution_count": 30
        }
      ]
    },
    {
      "cell_type": "code",
      "metadata": {
        "id": "wNK2gfb3oTHI"
      },
      "source": [
        "new_two_d2 = np.insert(twod,2, [[1,2,3,4]], axis=0)"
      ],
      "execution_count": 33,
      "outputs": []
    },
    {
      "cell_type": "code",
      "metadata": {
        "colab": {
          "base_uri": "https://localhost:8080/"
        },
        "id": "laCVJCx1oWJk",
        "outputId": "eed3e436-36a9-46f7-96a7-916035891163"
      },
      "source": [
        "new_two_d2"
      ],
      "execution_count": 34,
      "outputs": [
        {
          "output_type": "execute_result",
          "data": {
            "text/plain": [
              "array([[11, 12, 13, 14],\n",
              "       [10, 11, 12, 13],\n",
              "       [ 1,  2,  3,  4],\n",
              "       [24, 25, 26, 27],\n",
              "       [25, 26, 27, 28]])"
            ]
          },
          "metadata": {
            "tags": []
          },
          "execution_count": 34
        }
      ]
    },
    {
      "cell_type": "code",
      "metadata": {
        "colab": {
          "base_uri": "https://localhost:8080/"
        },
        "id": "LvNlpY6JpXiF",
        "outputId": "982ed27b-bf0f-4271-c6c1-8b1d4e56353a"
      },
      "source": [
        "new_two_d2[0][3]"
      ],
      "execution_count": 39,
      "outputs": [
        {
          "output_type": "execute_result",
          "data": {
            "text/plain": [
              "14"
            ]
          },
          "metadata": {
            "tags": []
          },
          "execution_count": 39
        }
      ]
    },
    {
      "cell_type": "code",
      "metadata": {
        "id": "SgWSYNTysT71"
      },
      "source": [
        "def arrayindexprint(array,rowindex,columnindex):\n",
        "  if rowindex >= len(array) and columnindex >= len(array[0]):\n",
        "    print('does not exist')\n",
        "  else:\n",
        "    print (array[rowindex][columnindex])"
      ],
      "execution_count": 40,
      "outputs": []
    },
    {
      "cell_type": "code",
      "metadata": {
        "colab": {
          "base_uri": "https://localhost:8080/"
        },
        "id": "_R7ztLFaspRh",
        "outputId": "949d40e7-a388-4185-9039-6dd8d57fe1ce"
      },
      "source": [
        "arrayindexprint(new_two_d2,0,3)  "
      ],
      "execution_count": 42,
      "outputs": [
        {
          "output_type": "stream",
          "text": [
            "14\n"
          ],
          "name": "stdout"
        }
      ]
    },
    {
      "cell_type": "code",
      "metadata": {
        "id": "9otW4aY_0HNB"
      },
      "source": [
        "def traversal(array):\n",
        "  for i in range(len(array)):\n",
        "    for j in range(len(array[0])):\n",
        "      print(array[i][j])"
      ],
      "execution_count": 44,
      "outputs": []
    },
    {
      "cell_type": "code",
      "metadata": {
        "colab": {
          "base_uri": "https://localhost:8080/"
        },
        "id": "ezq4v6Bx1HWs",
        "outputId": "7635ed63-73ac-43d6-93da-a98962306852"
      },
      "source": [
        "traversal(new_two_d2)"
      ],
      "execution_count": 45,
      "outputs": [
        {
          "output_type": "stream",
          "text": [
            "11\n",
            "12\n",
            "13\n",
            "14\n",
            "10\n",
            "11\n",
            "12\n",
            "13\n",
            "1\n",
            "2\n",
            "3\n",
            "4\n",
            "24\n",
            "25\n",
            "26\n",
            "27\n",
            "25\n",
            "26\n",
            "27\n",
            "28\n"
          ],
          "name": "stdout"
        }
      ]
    },
    {
      "cell_type": "code",
      "metadata": {
        "id": "Ijjs22zn1HaR"
      },
      "source": [
        "def search(array, value):\n",
        "  for i in range(len(array)):\n",
        "    for j in range(len(array[0])):\n",
        "      if array[i][j]==value:\n",
        "        return str(i)+\"\"+str(j)\n",
        "      else:\n",
        "        return 'does not exist'"
      ],
      "execution_count": 53,
      "outputs": []
    },
    {
      "cell_type": "code",
      "metadata": {
        "colab": {
          "base_uri": "https://localhost:8080/",
          "height": 36
        },
        "id": "I_7HuEZG3Znp",
        "outputId": "e40c81a5-4757-46ea-c0b2-fc0b8260ca36"
      },
      "source": [
        "search(new_two_d2, 99)"
      ],
      "execution_count": 54,
      "outputs": [
        {
          "output_type": "execute_result",
          "data": {
            "application/vnd.google.colaboratory.intrinsic+json": {
              "type": "string"
            },
            "text/plain": [
              "'does not exist'"
            ]
          },
          "metadata": {
            "tags": []
          },
          "execution_count": 54
        }
      ]
    },
    {
      "cell_type": "code",
      "metadata": {
        "colab": {
          "base_uri": "https://localhost:8080/"
        },
        "id": "3UU0I1d1-9cp",
        "outputId": "4d871e90-b01b-43e9-c57a-074be5fc8f03"
      },
      "source": [
        "array_p"
      ],
      "execution_count": 55,
      "outputs": [
        {
          "output_type": "execute_result",
          "data": {
            "text/plain": [
              "array('i', [45, 17, 16, 15, 14, 13, 12, 11, 10, 9, 8, 7, 6, 5, 4, 3, 2, 1, 2])"
            ]
          },
          "metadata": {
            "tags": []
          },
          "execution_count": 55
        }
      ]
    },
    {
      "cell_type": "code",
      "metadata": {
        "id": "JShXNH4z_3S4"
      },
      "source": [
        "def delete_1(array,value):\n",
        "  count=0\n",
        "  new_array=[]\n",
        "  for i in array:\n",
        "    if i != value:\n",
        "      new_array.insert(count,i)\n",
        "      count=count+1\n",
        "  return new_array"
      ],
      "execution_count": 62,
      "outputs": []
    },
    {
      "cell_type": "code",
      "metadata": {
        "colab": {
          "base_uri": "https://localhost:8080/"
        },
        "id": "wGZSjDjQB3Zl",
        "outputId": "140327a5-373d-4a64-e066-b397fcb6290c"
      },
      "source": [
        "delete_1(array_p,2)"
      ],
      "execution_count": 63,
      "outputs": [
        {
          "output_type": "execute_result",
          "data": {
            "text/plain": [
              "[45, 17, 16, 15, 14, 13, 12, 11, 10, 9, 8, 7, 6, 5, 4, 3, 1]"
            ]
          },
          "metadata": {
            "tags": []
          },
          "execution_count": 63
        }
      ]
    },
    {
      "cell_type": "code",
      "metadata": {
        "id": "umnaDrVmD7dX"
      },
      "source": [
        "new_after_deleted = np.delete(new_two_d2,1,axis=1)"
      ],
      "execution_count": 65,
      "outputs": []
    },
    {
      "cell_type": "code",
      "metadata": {
        "colab": {
          "base_uri": "https://localhost:8080/"
        },
        "id": "SHgV3t2nEL7B",
        "outputId": "92e188a6-e783-4dbb-f43b-599325a19e87"
      },
      "source": [
        "new_after_deleted"
      ],
      "execution_count": 66,
      "outputs": [
        {
          "output_type": "execute_result",
          "data": {
            "text/plain": [
              "array([[11, 13, 14],\n",
              "       [10, 12, 13],\n",
              "       [ 1,  3,  4],\n",
              "       [24, 26, 27],\n",
              "       [25, 27, 28]])"
            ]
          },
          "metadata": {
            "tags": []
          },
          "execution_count": 66
        }
      ]
    }
  ]
}